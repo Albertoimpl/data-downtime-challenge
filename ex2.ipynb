{
 "cells": [
  {
   "cell_type": "markdown",
   "metadata": {},
   "source": [
    "TODO: introduce schema change upstream (in the table from ex1), have it affect a downstream table"
   ]
  },
  {
   "cell_type": "markdown",
   "metadata": {},
   "source": [
    "# Data Downtime Challenge | Exercise 1\n",
    "\n",
    "## 0. Setup"
   ]
  },
  {
   "cell_type": "code",
   "execution_count": 1,
   "metadata": {},
   "outputs": [],
   "source": [
    "%matplotlib inline\n",
    "import warnings\n",
    "warnings.filterwarnings(\"ignore\")"
   ]
  },
  {
   "cell_type": "code",
   "execution_count": 2,
   "metadata": {},
   "outputs": [],
   "source": [
    "import pandas as pd\n",
    "from matplotlib import pyplot as plt"
   ]
  },
  {
   "cell_type": "code",
   "execution_count": 5,
   "metadata": {},
   "outputs": [],
   "source": [
    "import sqlite3\n",
    "\n",
    "conn = sqlite3.connect('Ex2.db')\n",
    "c = conn.cursor()"
   ]
  },
  {
   "cell_type": "markdown",
   "metadata": {},
   "source": [
    "## 1. Introduction"
   ]
  },
  {
   "cell_type": "code",
   "execution_count": 8,
   "metadata": {},
   "outputs": [
    {
     "data": {
      "text/plain": [
       "[(0, '_id', 'TEXT', 0, None, 0),\n",
       " (1, 'distance', 'REAL', 0, None, 0),\n",
       " (2, 'g', 'REAL', 0, None, 0),\n",
       " (3, 'orbital_period', 'REAL', 0, None, 0),\n",
       " (4, 'avg_temp', 'REAL', 0, None, 0),\n",
       " (5, 'date_added', 'TEXT', 0, None, 0),\n",
       " (6, 'eccentricity', 'REAL', 0, None, 0),\n",
       " (7, 'atmosphere', 'TEXT', 0, None, 0)]"
      ]
     },
     "execution_count": 8,
     "metadata": {},
     "output_type": "execute_result"
    }
   ],
   "source": [
    "c.execute(\"PRAGMA table_info(EXOPLANETS);\")\n",
    "c.fetchall()"
   ]
  },
  {
   "cell_type": "code",
   "execution_count": 9,
   "metadata": {},
   "outputs": [
    {
     "data": {
      "text/html": [
       "<div>\n",
       "<style scoped>\n",
       "    .dataframe tbody tr th:only-of-type {\n",
       "        vertical-align: middle;\n",
       "    }\n",
       "\n",
       "    .dataframe tbody tr th {\n",
       "        vertical-align: top;\n",
       "    }\n",
       "\n",
       "    .dataframe thead th {\n",
       "        text-align: right;\n",
       "    }\n",
       "</style>\n",
       "<table border=\"1\" class=\"dataframe\">\n",
       "  <thead>\n",
       "    <tr style=\"text-align: right;\">\n",
       "      <th></th>\n",
       "      <th>_id</th>\n",
       "      <th>distance</th>\n",
       "      <th>g</th>\n",
       "      <th>orbital_period</th>\n",
       "      <th>avg_temp</th>\n",
       "      <th>date_added</th>\n",
       "      <th>eccentricity</th>\n",
       "      <th>atmosphere</th>\n",
       "    </tr>\n",
       "  </thead>\n",
       "  <tbody>\n",
       "    <tr>\n",
       "      <th>0</th>\n",
       "      <td>c168b188-ef0c-4d6a-8cb2-f473d4154bdb</td>\n",
       "      <td>34.627304</td>\n",
       "      <td>NaN</td>\n",
       "      <td>476.480044</td>\n",
       "      <td>NaN</td>\n",
       "      <td>2020-01-01</td>\n",
       "      <td>None</td>\n",
       "      <td>None</td>\n",
       "    </tr>\n",
       "    <tr>\n",
       "      <th>1</th>\n",
       "      <td>e7b56e84-41f4-4e62-b078-01b076cea369</td>\n",
       "      <td>110.196920</td>\n",
       "      <td>2.525074</td>\n",
       "      <td>839.837817</td>\n",
       "      <td>NaN</td>\n",
       "      <td>2020-01-01</td>\n",
       "      <td>None</td>\n",
       "      <td>None</td>\n",
       "    </tr>\n",
       "    <tr>\n",
       "      <th>2</th>\n",
       "      <td>a27030a0-e4b4-4bd7-8d24-5435ed86b395</td>\n",
       "      <td>26.695795</td>\n",
       "      <td>10.276497</td>\n",
       "      <td>301.018816</td>\n",
       "      <td>NaN</td>\n",
       "      <td>2020-01-01</td>\n",
       "      <td>None</td>\n",
       "      <td>None</td>\n",
       "    </tr>\n",
       "    <tr>\n",
       "      <th>3</th>\n",
       "      <td>54f9cf85-eae9-4f29-b665-855357a14375</td>\n",
       "      <td>54.888352</td>\n",
       "      <td>NaN</td>\n",
       "      <td>173.788968</td>\n",
       "      <td>328.644125</td>\n",
       "      <td>2020-01-01</td>\n",
       "      <td>None</td>\n",
       "      <td>None</td>\n",
       "    </tr>\n",
       "    <tr>\n",
       "      <th>4</th>\n",
       "      <td>4d06ec88-f5c8-4d03-91ef-7493a12cd89e</td>\n",
       "      <td>153.264217</td>\n",
       "      <td>0.922875</td>\n",
       "      <td>200.712662</td>\n",
       "      <td>NaN</td>\n",
       "      <td>2020-01-01</td>\n",
       "      <td>None</td>\n",
       "      <td>None</td>\n",
       "    </tr>\n",
       "    <tr>\n",
       "      <th>5</th>\n",
       "      <td>e16250b8-2d9d-49f3-aaef-58eed9a8864c</td>\n",
       "      <td>7.454811</td>\n",
       "      <td>5.503701</td>\n",
       "      <td>763.561710</td>\n",
       "      <td>245.129285</td>\n",
       "      <td>2020-01-01</td>\n",
       "      <td>None</td>\n",
       "      <td>None</td>\n",
       "    </tr>\n",
       "    <tr>\n",
       "      <th>6</th>\n",
       "      <td>a0a6bf97-90d5-4686-8ccb-10753f8d335e</td>\n",
       "      <td>4.925946</td>\n",
       "      <td>0.953473</td>\n",
       "      <td>486.053323</td>\n",
       "      <td>267.786557</td>\n",
       "      <td>2020-01-01</td>\n",
       "      <td>None</td>\n",
       "      <td>None</td>\n",
       "    </tr>\n",
       "    <tr>\n",
       "      <th>7</th>\n",
       "      <td>b28b4e19-8517-4ab5-97f0-c445f1aae6c4</td>\n",
       "      <td>94.540173</td>\n",
       "      <td>7.118254</td>\n",
       "      <td>629.287426</td>\n",
       "      <td>368.859206</td>\n",
       "      <td>2020-01-01</td>\n",
       "      <td>None</td>\n",
       "      <td>None</td>\n",
       "    </tr>\n",
       "    <tr>\n",
       "      <th>8</th>\n",
       "      <td>7e34e44e-663f-491c-96c5-bb5acb8d5f1e</td>\n",
       "      <td>19.786255</td>\n",
       "      <td>3.999081</td>\n",
       "      <td>744.106326</td>\n",
       "      <td>180.445029</td>\n",
       "      <td>2020-01-01</td>\n",
       "      <td>None</td>\n",
       "      <td>None</td>\n",
       "    </tr>\n",
       "    <tr>\n",
       "      <th>9</th>\n",
       "      <td>305e8ea0-663b-4311-b6b3-4198c051c335</td>\n",
       "      <td>95.654030</td>\n",
       "      <td>0.677212</td>\n",
       "      <td>472.344447</td>\n",
       "      <td>NaN</td>\n",
       "      <td>2020-01-01</td>\n",
       "      <td>None</td>\n",
       "      <td>None</td>\n",
       "    </tr>\n",
       "  </tbody>\n",
       "</table>\n",
       "</div>"
      ],
      "text/plain": [
       "                                    _id    distance          g  \\\n",
       "0  c168b188-ef0c-4d6a-8cb2-f473d4154bdb   34.627304        NaN   \n",
       "1  e7b56e84-41f4-4e62-b078-01b076cea369  110.196920   2.525074   \n",
       "2  a27030a0-e4b4-4bd7-8d24-5435ed86b395   26.695795  10.276497   \n",
       "3  54f9cf85-eae9-4f29-b665-855357a14375   54.888352        NaN   \n",
       "4  4d06ec88-f5c8-4d03-91ef-7493a12cd89e  153.264217   0.922875   \n",
       "5  e16250b8-2d9d-49f3-aaef-58eed9a8864c    7.454811   5.503701   \n",
       "6  a0a6bf97-90d5-4686-8ccb-10753f8d335e    4.925946   0.953473   \n",
       "7  b28b4e19-8517-4ab5-97f0-c445f1aae6c4   94.540173   7.118254   \n",
       "8  7e34e44e-663f-491c-96c5-bb5acb8d5f1e   19.786255   3.999081   \n",
       "9  305e8ea0-663b-4311-b6b3-4198c051c335   95.654030   0.677212   \n",
       "\n",
       "   orbital_period    avg_temp  date_added eccentricity atmosphere  \n",
       "0      476.480044         NaN  2020-01-01         None       None  \n",
       "1      839.837817         NaN  2020-01-01         None       None  \n",
       "2      301.018816         NaN  2020-01-01         None       None  \n",
       "3      173.788968  328.644125  2020-01-01         None       None  \n",
       "4      200.712662         NaN  2020-01-01         None       None  \n",
       "5      763.561710  245.129285  2020-01-01         None       None  \n",
       "6      486.053323  267.786557  2020-01-01         None       None  \n",
       "7      629.287426  368.859206  2020-01-01         None       None  \n",
       "8      744.106326  180.445029  2020-01-01         None       None  \n",
       "9      472.344447         NaN  2020-01-01         None       None  "
      ]
     },
     "execution_count": 9,
     "metadata": {},
     "output_type": "execute_result"
    }
   ],
   "source": [
    "pd.read_sql_query(\"SELECT * FROM EXOPLANETS LIMIT 10\", conn)"
   ]
  },
  {
   "cell_type": "code",
   "execution_count": 10,
   "metadata": {},
   "outputs": [
    {
     "data": {
      "text/plain": [
       "[(0, '_id', 'TEXT', 0, None, 0),\n",
       " (1, 'perihelion', 'REAL', 0, None, 0),\n",
       " (2, 'aphelion', 'REAL', 0, None, 0),\n",
       " (3, 'atmosphere', 'TEXT', 0, None, 0),\n",
       " (4, 'habitability', 'REAL', 0, None, 0)]"
      ]
     },
     "execution_count": 10,
     "metadata": {},
     "output_type": "execute_result"
    }
   ],
   "source": [
    "c.execute(\"PRAGMA table_info(HABITABLES);\")\n",
    "c.fetchall()"
   ]
  },
  {
   "cell_type": "code",
   "execution_count": 13,
   "metadata": {},
   "outputs": [
    {
     "data": {
      "text/html": [
       "<div>\n",
       "<style scoped>\n",
       "    .dataframe tbody tr th:only-of-type {\n",
       "        vertical-align: middle;\n",
       "    }\n",
       "\n",
       "    .dataframe tbody tr th {\n",
       "        vertical-align: top;\n",
       "    }\n",
       "\n",
       "    .dataframe thead th {\n",
       "        text-align: right;\n",
       "    }\n",
       "</style>\n",
       "<table border=\"1\" class=\"dataframe\">\n",
       "  <thead>\n",
       "    <tr style=\"text-align: right;\">\n",
       "      <th></th>\n",
       "      <th>_id</th>\n",
       "      <th>perihelion</th>\n",
       "      <th>aphelion</th>\n",
       "      <th>atmosphere</th>\n",
       "      <th>habitability</th>\n",
       "    </tr>\n",
       "  </thead>\n",
       "  <tbody>\n",
       "    <tr>\n",
       "      <th>0</th>\n",
       "      <td>c168b188-ef0c-4d6a-8cb2-f473d4154bdb</td>\n",
       "      <td>None</td>\n",
       "      <td>None</td>\n",
       "      <td>None</td>\n",
       "      <td>0.768373</td>\n",
       "    </tr>\n",
       "    <tr>\n",
       "      <th>1</th>\n",
       "      <td>e7b56e84-41f4-4e62-b078-01b076cea369</td>\n",
       "      <td>None</td>\n",
       "      <td>None</td>\n",
       "      <td>None</td>\n",
       "      <td>0.696219</td>\n",
       "    </tr>\n",
       "    <tr>\n",
       "      <th>2</th>\n",
       "      <td>a27030a0-e4b4-4bd7-8d24-5435ed86b395</td>\n",
       "      <td>None</td>\n",
       "      <td>None</td>\n",
       "      <td>None</td>\n",
       "      <td>0.291440</td>\n",
       "    </tr>\n",
       "    <tr>\n",
       "      <th>3</th>\n",
       "      <td>54f9cf85-eae9-4f29-b665-855357a14375</td>\n",
       "      <td>None</td>\n",
       "      <td>None</td>\n",
       "      <td>None</td>\n",
       "      <td>0.532590</td>\n",
       "    </tr>\n",
       "    <tr>\n",
       "      <th>4</th>\n",
       "      <td>4d06ec88-f5c8-4d03-91ef-7493a12cd89e</td>\n",
       "      <td>None</td>\n",
       "      <td>None</td>\n",
       "      <td>None</td>\n",
       "      <td>0.420317</td>\n",
       "    </tr>\n",
       "    <tr>\n",
       "      <th>5</th>\n",
       "      <td>e16250b8-2d9d-49f3-aaef-58eed9a8864c</td>\n",
       "      <td>None</td>\n",
       "      <td>None</td>\n",
       "      <td>None</td>\n",
       "      <td>0.835647</td>\n",
       "    </tr>\n",
       "    <tr>\n",
       "      <th>6</th>\n",
       "      <td>a0a6bf97-90d5-4686-8ccb-10753f8d335e</td>\n",
       "      <td>None</td>\n",
       "      <td>None</td>\n",
       "      <td>None</td>\n",
       "      <td>0.952850</td>\n",
       "    </tr>\n",
       "    <tr>\n",
       "      <th>7</th>\n",
       "      <td>b28b4e19-8517-4ab5-97f0-c445f1aae6c4</td>\n",
       "      <td>None</td>\n",
       "      <td>None</td>\n",
       "      <td>None</td>\n",
       "      <td>0.520321</td>\n",
       "    </tr>\n",
       "    <tr>\n",
       "      <th>8</th>\n",
       "      <td>7e34e44e-663f-491c-96c5-bb5acb8d5f1e</td>\n",
       "      <td>None</td>\n",
       "      <td>None</td>\n",
       "      <td>None</td>\n",
       "      <td>0.894001</td>\n",
       "    </tr>\n",
       "    <tr>\n",
       "      <th>9</th>\n",
       "      <td>305e8ea0-663b-4311-b6b3-4198c051c335</td>\n",
       "      <td>None</td>\n",
       "      <td>None</td>\n",
       "      <td>None</td>\n",
       "      <td>0.315581</td>\n",
       "    </tr>\n",
       "  </tbody>\n",
       "</table>\n",
       "</div>"
      ],
      "text/plain": [
       "                                    _id perihelion aphelion atmosphere  \\\n",
       "0  c168b188-ef0c-4d6a-8cb2-f473d4154bdb       None     None       None   \n",
       "1  e7b56e84-41f4-4e62-b078-01b076cea369       None     None       None   \n",
       "2  a27030a0-e4b4-4bd7-8d24-5435ed86b395       None     None       None   \n",
       "3  54f9cf85-eae9-4f29-b665-855357a14375       None     None       None   \n",
       "4  4d06ec88-f5c8-4d03-91ef-7493a12cd89e       None     None       None   \n",
       "5  e16250b8-2d9d-49f3-aaef-58eed9a8864c       None     None       None   \n",
       "6  a0a6bf97-90d5-4686-8ccb-10753f8d335e       None     None       None   \n",
       "7  b28b4e19-8517-4ab5-97f0-c445f1aae6c4       None     None       None   \n",
       "8  7e34e44e-663f-491c-96c5-bb5acb8d5f1e       None     None       None   \n",
       "9  305e8ea0-663b-4311-b6b3-4198c051c335       None     None       None   \n",
       "\n",
       "   habitability  \n",
       "0      0.768373  \n",
       "1      0.696219  \n",
       "2      0.291440  \n",
       "3      0.532590  \n",
       "4      0.420317  \n",
       "5      0.835647  \n",
       "6      0.952850  \n",
       "7      0.520321  \n",
       "8      0.894001  \n",
       "9      0.315581  "
      ]
     },
     "execution_count": 13,
     "metadata": {},
     "output_type": "execute_result"
    }
   ],
   "source": [
    "pd.read_sql_query(\"SELECT * FROM HABITABLES LIMIT 10\", conn)"
   ]
  },
  {
   "cell_type": "markdown",
   "metadata": {},
   "source": [
    "## Exercise: Understanding Schema Change"
   ]
  },
  {
   "cell_type": "code",
   "execution_count": 20,
   "metadata": {},
   "outputs": [],
   "source": [
    "from datetime import datetime, timedelta\n",
    "all_days = []\n",
    "date = datetime(2020, 1, 1)\n",
    "for _ in range(250):\n",
    "    all_days.append(date.strftime(\"%Y-%m-%d\"))\n",
    "    date += timedelta(days=1)\n",
    "all_days = pd.Index(all_days)"
   ]
  },
  {
   "cell_type": "code",
   "execution_count": 24,
   "metadata": {},
   "outputs": [],
   "source": [
    "SQL = \"\"\"\n",
    "SELECT\n",
    "    DATE_ADDED,\n",
    "    SUM(CASE WHEN ECCENTRICITY IS NULL THEN 0 ELSE 1 END) AS ECCENTRICITY_COUNT_ADDED,\n",
    "    SUM(CASE WHEN ATMOSPHERE IS NULL THEN 0 ELSE 1 END) AS ATMOSPHERE_COUNT_ADDED \n",
    "FROM\n",
    "    EXOPLANETS\n",
    "GROUP BY\n",
    "    DATE_ADDED\n",
    "\"\"\""
   ]
  },
  {
   "cell_type": "code",
   "execution_count": 27,
   "metadata": {},
   "outputs": [],
   "source": [
    "count_added = pd.read_sql_query(SQL, conn)\n",
    "count_added = count_added \\\n",
    "    .rename(columns={clmn: clmn.lower() for clmn in count_added.columns})\n",
    "count_added = count_added.set_index(\"date_added\")\n",
    "count_added = count_added.reindex(all_days)"
   ]
  },
  {
   "cell_type": "markdown",
   "metadata": {},
   "source": [
    "These plots show the number of new entries with values for `eccentricity` and `atmosphere` respectively on each day. Note that on July 19, entries abruptly start filling in because of the addition to the schema."
   ]
  },
  {
   "cell_type": "code",
   "execution_count": 28,
   "metadata": {},
   "outputs": [
    {
     "data": {
      "image/png": "[encoded data removed]",
      "text/plain": [
       "<Figure size 1440x720 with 1 Axes>"
      ]
     },
     "metadata": {
      "needs_background": "light"
     },
     "output_type": "display_data"
    }
   ],
   "source": [
    "plt.figure(figsize=(20, 10))\n",
    "plt.bar(all_days, height=count_added[\"eccentricity_count_added\"])\n",
    "plt.show()"
   ]
  },
  {
   "cell_type": "code",
   "execution_count": 41,
   "metadata": {},
   "outputs": [
    {
     "data": {
      "image/png": "[encoded data removed]",
      "text/plain": [
       "<Figure size 1440x720 with 1 Axes>"
      ]
     },
     "metadata": {
      "needs_background": "light"
     },
     "output_type": "display_data"
    }
   ],
   "source": [
    "plt.figure(figsize=(20, 10))\n",
    "# TODO plt.xticks()\n",
    "plt.bar(all_days, height=count_added[\"atmosphere_count_added\"])\n",
    "plt.show()"
   ]
  },
  {
   "cell_type": "code",
   "execution_count": 46,
   "metadata": {},
   "outputs": [],
   "source": [
    "SQL = \"\"\"\n",
    "SELECT\n",
    "    HABITABILITY\n",
    "FROM\n",
    "    HABITABLES\n",
    "\"\"\""
   ]
  },
  {
   "cell_type": "code",
   "execution_count": 48,
   "metadata": {},
   "outputs": [],
   "source": [
    "avg_habitability = pd.read_sql_query(SQL, conn)\n",
    "avg_habitability = avg_habitability \\\n",
    "    .rename(columns={clmn: clmn.lower() for clmn in avg_habitability.columns})"
   ]
  },
  {
   "cell_type": "code",
   "execution_count": 51,
   "metadata": {},
   "outputs": [
    {
     "data": {
      "image/png": "[encoded data removed]",
      "text/plain": [
       "<Figure size 1440x720 with 1 Axes>"
      ]
     },
     "metadata": {
      "needs_background": "light"
     },
     "output_type": "display_data"
    }
   ],
   "source": [
    "plt.figure(figsize=(20, 10))\n",
    "plt.bar(avg_habitability.index, height=avg_habitability[\"habitability\"])\n",
    "plt.show()"
   ]
  },
  {
   "cell_type": "code",
   "execution_count": null,
   "metadata": {},
   "outputs": [],
   "source": []
  }
 ],
 "metadata": {
  "kernelspec": {
   "display_name": "Python 3",
   "language": "python",
   "name": "python3"
  },
  "language_info": {
   "codemirror_mode": {
    "name": "ipython",
    "version": 3
   },
   "file_extension": ".py",
   "mimetype": "text/x-python",
   "name": "python",
   "nbconvert_exporter": "python",
   "pygments_lexer": "ipython3",
   "version": "3.7.5"
  }
 },
 "nbformat": 4,
 "nbformat_minor": 4
}
