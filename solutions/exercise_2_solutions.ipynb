{
 "cells": [
  {
   "cell_type": "markdown",
   "metadata": {},
   "source": [
    "# Data Downtime Challenge | Exercise 2\n",
    "\n",
    "## 0. Setup"
   ]
  },
  {
   "cell_type": "code",
   "execution_count": 1,
   "metadata": {},
   "outputs": [],
   "source": [
    "%matplotlib inline\n",
    "import warnings\n",
    "warnings.filterwarnings(\"ignore\")"
   ]
  },
  {
   "cell_type": "code",
   "execution_count": 2,
   "metadata": {},
   "outputs": [],
   "source": [
    "import pandas as pd\n",
    "from matplotlib import pyplot as plt"
   ]
  },
  {
   "cell_type": "code",
   "execution_count": 3,
   "metadata": {},
   "outputs": [],
   "source": [
    "import sys\n",
    "sys.path.append(\"..\")"
   ]
  },
  {
   "cell_type": "code",
   "execution_count": 4,
   "metadata": {},
   "outputs": [],
   "source": [
    "from data.utils.exercise_2 import all_days, show_reports"
   ]
  },
  {
   "cell_type": "code",
   "execution_count": 5,
   "metadata": {},
   "outputs": [],
   "source": [
    "import sqlite3\n",
    "\n",
    "conn = sqlite3.connect(\"../data/dbs/Ex2.db\")\n",
    "c = conn.cursor()"
   ]
  },
  {
   "cell_type": "markdown",
   "metadata": {},
   "source": [
    "## 1. Introduction\n",
    "\n",
    "In the last exercise, we examined some isolated data downtime incidents in the `EXOPLANETS` table. While the techniques from that exercise are helpful, in practice data downtime involves data infrastructure where many tables interact. So, in this exercise, we'll look at a scenario where multiple tables interact.\n",
    "\n",
    "### `EXOPLANETS`\n",
    "Let's once again consider our `EXOPLANETS` table, but at a later date than before. Now, our table has additional entries and additional _fields_. We now record the planets' orbital eccentricity and the contents of their atmosphere."
   ]
  },
  {
   "cell_type": "code",
   "execution_count": 6,
   "metadata": {},
   "outputs": [
    {
     "data": {
      "text/plain": [
       "[(0, '_id', 'TEXT', 0, None, 0),\n",
       " (1, 'distance', 'REAL', 0, None, 0),\n",
       " (2, 'g', 'REAL', 0, None, 0),\n",
       " (3, 'orbital_period', 'REAL', 0, None, 0),\n",
       " (4, 'avg_temp', 'REAL', 0, None, 0),\n",
       " (5, 'date_added', 'TEXT', 0, None, 0),\n",
       " (6, 'eccentricity', 'REAL', 0, None, 0),\n",
       " (7, 'atmosphere', 'TEXT', 0, None, 0)]"
      ]
     },
     "execution_count": 6,
     "metadata": {},
     "output_type": "execute_result"
    }
   ],
   "source": [
    "c.execute(\"PRAGMA table_info(EXOPLANETS);\")\n",
    "c.fetchall()"
   ]
  },
  {
   "cell_type": "markdown",
   "metadata": {},
   "source": [
    "\n",
    "Let's take a look at our 10 most recent additions to the table:"
   ]
  },
  {
   "cell_type": "code",
   "execution_count": 7,
   "metadata": {},
   "outputs": [
    {
     "data": {
      "text/html": [
       "<div>\n",
       "<style scoped>\n",
       "    .dataframe tbody tr th:only-of-type {\n",
       "        vertical-align: middle;\n",
       "    }\n",
       "\n",
       "    .dataframe tbody tr th {\n",
       "        vertical-align: top;\n",
       "    }\n",
       "\n",
       "    .dataframe thead th {\n",
       "        text-align: right;\n",
       "    }\n",
       "</style>\n",
       "<table border=\"1\" class=\"dataframe\">\n",
       "  <thead>\n",
       "    <tr style=\"text-align: right;\">\n",
       "      <th></th>\n",
       "      <th>_id</th>\n",
       "      <th>distance</th>\n",
       "      <th>g</th>\n",
       "      <th>orbital_period</th>\n",
       "      <th>avg_temp</th>\n",
       "      <th>date_added</th>\n",
       "      <th>eccentricity</th>\n",
       "      <th>atmosphere</th>\n",
       "    </tr>\n",
       "  </thead>\n",
       "  <tbody>\n",
       "    <tr>\n",
       "      <th>0</th>\n",
       "      <td>ccb3e5ac-e442-4b97-8598-e965a3979e27</td>\n",
       "      <td>30.413412</td>\n",
       "      <td>2.106487</td>\n",
       "      <td>NaN</td>\n",
       "      <td>NaN</td>\n",
       "      <td>2020-09-06</td>\n",
       "      <td>0.815541</td>\n",
       "      <td>None</td>\n",
       "    </tr>\n",
       "    <tr>\n",
       "      <th>1</th>\n",
       "      <td>69e03917-8ebc-4b6f-929f-389a72d0e7d0</td>\n",
       "      <td>2.583353</td>\n",
       "      <td>12.877323</td>\n",
       "      <td>733.287401</td>\n",
       "      <td>244.284192</td>\n",
       "      <td>2020-09-06</td>\n",
       "      <td>0.014063</td>\n",
       "      <td>None</td>\n",
       "    </tr>\n",
       "    <tr>\n",
       "      <th>2</th>\n",
       "      <td>d8ca05cd-d51b-45a4-87fa-77953b4a39bb</td>\n",
       "      <td>28.426913</td>\n",
       "      <td>1.957029</td>\n",
       "      <td>NaN</td>\n",
       "      <td>308.557738</td>\n",
       "      <td>2020-09-06</td>\n",
       "      <td>0.439174</td>\n",
       "      <td>None</td>\n",
       "    </tr>\n",
       "    <tr>\n",
       "      <th>3</th>\n",
       "      <td>a3002dd8-c0a4-4f02-9636-3726a1dca0e9</td>\n",
       "      <td>90.387710</td>\n",
       "      <td>2.689654</td>\n",
       "      <td>605.644729</td>\n",
       "      <td>NaN</td>\n",
       "      <td>2020-09-06</td>\n",
       "      <td>0.830666</td>\n",
       "      <td>None</td>\n",
       "    </tr>\n",
       "    <tr>\n",
       "      <th>4</th>\n",
       "      <td>bed5289e-5547-44b9-8f08-7b1f0938ad6d</td>\n",
       "      <td>74.619784</td>\n",
       "      <td>4.414655</td>\n",
       "      <td>107.945782</td>\n",
       "      <td>NaN</td>\n",
       "      <td>2020-09-06</td>\n",
       "      <td>NaN</td>\n",
       "      <td>H2SO4</td>\n",
       "    </tr>\n",
       "    <tr>\n",
       "      <th>5</th>\n",
       "      <td>e4cf3038-95b5-47be-bf98-c0b3433d5df6</td>\n",
       "      <td>26.600994</td>\n",
       "      <td>6.554648</td>\n",
       "      <td>570.518311</td>\n",
       "      <td>379.928077</td>\n",
       "      <td>2020-09-06</td>\n",
       "      <td>0.042601</td>\n",
       "      <td>None</td>\n",
       "    </tr>\n",
       "    <tr>\n",
       "      <th>6</th>\n",
       "      <td>7b757b6a-7c30-40a9-83df-35016e31b93f</td>\n",
       "      <td>65.675008</td>\n",
       "      <td>3.777415</td>\n",
       "      <td>704.465275</td>\n",
       "      <td>318.733111</td>\n",
       "      <td>2020-09-06</td>\n",
       "      <td>NaN</td>\n",
       "      <td>O2</td>\n",
       "    </tr>\n",
       "    <tr>\n",
       "      <th>7</th>\n",
       "      <td>7123cbf9-ffc2-41cc-b7e9-de617267146c</td>\n",
       "      <td>95.138922</td>\n",
       "      <td>7.511761</td>\n",
       "      <td>NaN</td>\n",
       "      <td>NaN</td>\n",
       "      <td>2020-09-06</td>\n",
       "      <td>0.179230</td>\n",
       "      <td>None</td>\n",
       "    </tr>\n",
       "    <tr>\n",
       "      <th>8</th>\n",
       "      <td>221aa90c-5d92-4b3e-8a01-f05b43e5f229</td>\n",
       "      <td>76.562854</td>\n",
       "      <td>11.100272</td>\n",
       "      <td>NaN</td>\n",
       "      <td>207.902495</td>\n",
       "      <td>2020-09-06</td>\n",
       "      <td>0.899648</td>\n",
       "      <td>None</td>\n",
       "    </tr>\n",
       "    <tr>\n",
       "      <th>9</th>\n",
       "      <td>02b4c524-6ef6-44cc-a18b-894e5ac0f62c</td>\n",
       "      <td>81.743991</td>\n",
       "      <td>3.439940</td>\n",
       "      <td>597.429313</td>\n",
       "      <td>NaN</td>\n",
       "      <td>2020-09-06</td>\n",
       "      <td>0.855455</td>\n",
       "      <td>None</td>\n",
       "    </tr>\n",
       "  </tbody>\n",
       "</table>\n",
       "</div>"
      ],
      "text/plain": [
       "                                    _id   distance          g  orbital_period  \\\n",
       "0  ccb3e5ac-e442-4b97-8598-e965a3979e27  30.413412   2.106487             NaN   \n",
       "1  69e03917-8ebc-4b6f-929f-389a72d0e7d0   2.583353  12.877323      733.287401   \n",
       "2  d8ca05cd-d51b-45a4-87fa-77953b4a39bb  28.426913   1.957029             NaN   \n",
       "3  a3002dd8-c0a4-4f02-9636-3726a1dca0e9  90.387710   2.689654      605.644729   \n",
       "4  bed5289e-5547-44b9-8f08-7b1f0938ad6d  74.619784   4.414655      107.945782   \n",
       "5  e4cf3038-95b5-47be-bf98-c0b3433d5df6  26.600994   6.554648      570.518311   \n",
       "6  7b757b6a-7c30-40a9-83df-35016e31b93f  65.675008   3.777415      704.465275   \n",
       "7  7123cbf9-ffc2-41cc-b7e9-de617267146c  95.138922   7.511761             NaN   \n",
       "8  221aa90c-5d92-4b3e-8a01-f05b43e5f229  76.562854  11.100272             NaN   \n",
       "9  02b4c524-6ef6-44cc-a18b-894e5ac0f62c  81.743991   3.439940      597.429313   \n",
       "\n",
       "     avg_temp  date_added  eccentricity atmosphere  \n",
       "0         NaN  2020-09-06      0.815541       None  \n",
       "1  244.284192  2020-09-06      0.014063       None  \n",
       "2  308.557738  2020-09-06      0.439174       None  \n",
       "3         NaN  2020-09-06      0.830666       None  \n",
       "4         NaN  2020-09-06           NaN      H2SO4  \n",
       "5  379.928077  2020-09-06      0.042601       None  \n",
       "6  318.733111  2020-09-06           NaN         O2  \n",
       "7         NaN  2020-09-06      0.179230       None  \n",
       "8  207.902495  2020-09-06      0.899648       None  \n",
       "9         NaN  2020-09-06      0.855455       None  "
      ]
     },
     "execution_count": 7,
     "metadata": {},
     "output_type": "execute_result"
    }
   ],
   "source": [
    "pd.read_sql_query(\"SELECT * FROM EXOPLANETS ORDER BY DATE_ADDED DESC LIMIT 10\", conn)"
   ]
  },
  {
   "cell_type": "markdown",
   "metadata": {},
   "source": [
    "A database entry in `EXOPLANETS` contains the following info:\n",
    "\n",
    "0. `_id`: A UUID corresponding to the planet.\n",
    "1. `distance`: Distance from Earth, in lightyears.\n",
    "2. `g`: Surface gravity as a multiple of $g$, the gravitational force constant.\n",
    "3. `orbital_period`: Length of a single orbital cycle in days.\n",
    "4. `avg_temp`: Average surface temperature in degrees Kelvin.\n",
    "5. `date_added`: The date our system discovered the planet and added it automatically to our databases.\n",
    "6. `eccentricity`: The [orbital eccentricity](https://en.wikipedia.org/wiki/Orbital_eccentricity) of the planet about its host star.\n",
    "7. `atmosphere`: The dominant chemical makeup of the planet's atmosphere.\n",
    "\n",
    "Note that like `distance`, `g`, `orbital_period`, and `avg_temp`, both `eccentricity` and `atmosphere` may be `NULL` for a given planet as a result of missing or erroneous data. For example, [rogue planets](https://en.wikipedia.org/wiki/Rogue_planet) have undefined orbital eccentricity, and many planets don't have atmospheres at all.\n",
    "\n",
    "Note also that data is not backfilled, meaning data entries from the beginning of the table will not have `eccentricity` and `atmosphere` information."
   ]
  },
  {
   "cell_type": "code",
   "execution_count": 8,
   "metadata": {},
   "outputs": [
    {
     "data": {
      "text/html": [
       "<div>\n",
       "<style scoped>\n",
       "    .dataframe tbody tr th:only-of-type {\n",
       "        vertical-align: middle;\n",
       "    }\n",
       "\n",
       "    .dataframe tbody tr th {\n",
       "        vertical-align: top;\n",
       "    }\n",
       "\n",
       "    .dataframe thead th {\n",
       "        text-align: right;\n",
       "    }\n",
       "</style>\n",
       "<table border=\"1\" class=\"dataframe\">\n",
       "  <thead>\n",
       "    <tr style=\"text-align: right;\">\n",
       "      <th></th>\n",
       "      <th>date_added</th>\n",
       "      <th>eccentricity</th>\n",
       "      <th>atmosphere</th>\n",
       "    </tr>\n",
       "  </thead>\n",
       "  <tbody>\n",
       "    <tr>\n",
       "      <th>0</th>\n",
       "      <td>2020-01-01</td>\n",
       "      <td>None</td>\n",
       "      <td>None</td>\n",
       "    </tr>\n",
       "    <tr>\n",
       "      <th>1</th>\n",
       "      <td>2020-01-01</td>\n",
       "      <td>None</td>\n",
       "      <td>None</td>\n",
       "    </tr>\n",
       "    <tr>\n",
       "      <th>2</th>\n",
       "      <td>2020-01-01</td>\n",
       "      <td>None</td>\n",
       "      <td>None</td>\n",
       "    </tr>\n",
       "    <tr>\n",
       "      <th>3</th>\n",
       "      <td>2020-01-01</td>\n",
       "      <td>None</td>\n",
       "      <td>None</td>\n",
       "    </tr>\n",
       "    <tr>\n",
       "      <th>4</th>\n",
       "      <td>2020-01-01</td>\n",
       "      <td>None</td>\n",
       "      <td>None</td>\n",
       "    </tr>\n",
       "    <tr>\n",
       "      <th>5</th>\n",
       "      <td>2020-01-01</td>\n",
       "      <td>None</td>\n",
       "      <td>None</td>\n",
       "    </tr>\n",
       "    <tr>\n",
       "      <th>6</th>\n",
       "      <td>2020-01-01</td>\n",
       "      <td>None</td>\n",
       "      <td>None</td>\n",
       "    </tr>\n",
       "    <tr>\n",
       "      <th>7</th>\n",
       "      <td>2020-01-01</td>\n",
       "      <td>None</td>\n",
       "      <td>None</td>\n",
       "    </tr>\n",
       "    <tr>\n",
       "      <th>8</th>\n",
       "      <td>2020-01-01</td>\n",
       "      <td>None</td>\n",
       "      <td>None</td>\n",
       "    </tr>\n",
       "    <tr>\n",
       "      <th>9</th>\n",
       "      <td>2020-01-01</td>\n",
       "      <td>None</td>\n",
       "      <td>None</td>\n",
       "    </tr>\n",
       "  </tbody>\n",
       "</table>\n",
       "</div>"
      ],
      "text/plain": [
       "   date_added eccentricity atmosphere\n",
       "0  2020-01-01         None       None\n",
       "1  2020-01-01         None       None\n",
       "2  2020-01-01         None       None\n",
       "3  2020-01-01         None       None\n",
       "4  2020-01-01         None       None\n",
       "5  2020-01-01         None       None\n",
       "6  2020-01-01         None       None\n",
       "7  2020-01-01         None       None\n",
       "8  2020-01-01         None       None\n",
       "9  2020-01-01         None       None"
      ]
     },
     "execution_count": 8,
     "metadata": {},
     "output_type": "execute_result"
    }
   ],
   "source": [
    "pd.read_sql_query(\n",
    "    \"\"\"\n",
    "        SELECT\n",
    "            date_added,\n",
    "            eccentricity,\n",
    "            atmosphere\n",
    "        FROM EXOPLANETS\n",
    "        ORDER BY DATE_ADDED ASC\n",
    "        LIMIT 10\n",
    "    \"\"\",\n",
    "    conn\n",
    ")"
   ]
  },
  {
   "cell_type": "markdown",
   "metadata": {},
   "source": [
    "### `EXOPLANETS_SCHEMA`\n",
    "\n",
    "Thankfully, we have been recording historical `table_info` on the `EXOPLANETS` table and collecting the results in a table called `EXOPLANETS_SCHEMA`, updated daily."
   ]
  },
  {
   "cell_type": "code",
   "execution_count": 9,
   "metadata": {},
   "outputs": [
    {
     "data": {
      "text/plain": [
       "[(0, 'date', 'TEXT', 0, None, 0), (1, 'schema', 'TEXT', 0, None, 0)]"
      ]
     },
     "execution_count": 9,
     "metadata": {},
     "output_type": "execute_result"
    }
   ],
   "source": [
    "c.execute(\"PRAGMA table_info(EXOPLANETS_SCHEMA);\")\n",
    "c.fetchall()"
   ]
  },
  {
   "cell_type": "markdown",
   "metadata": {},
   "source": [
    "Querying the very beginning and end of `EXOPLANETS_SCHEMA`'s data reflects that `EXOPLANETS`'s metadata has changed since January 2020:"
   ]
  },
  {
   "cell_type": "code",
   "execution_count": 10,
   "metadata": {},
   "outputs": [
    {
     "name": "stdout",
     "output_type": "stream",
     "text": [
      "Was:    [\n",
      "    (0, '_id', 'TEXT', 0, None, 0),\n",
      "    (1, 'distance', 'REAL', 0, None, 0),\n",
      "    (2, 'g', 'REAL', 0, None, 0),\n",
      "    (3, 'orbital_period', 'REAL', 0, None, 0),\n",
      "    (4, 'avg_temp', 'REAL', 0, None, 0),\n",
      "    (5, 'date_added', 'TEXT', 0, None, 0)\n",
      "  ]\n",
      "Is now: [\n",
      "    (0, '_id', 'TEXT', 0, None, 0),\n",
      "    (1, 'distance', 'REAL', 0, None, 0),\n",
      "    (2, 'g', 'REAL', 0, None, 0),\n",
      "    (3, 'orbital_period', 'REAL', 0, None, 0),\n",
      "    (4, 'avg_temp', 'REAL', 0, None, 0),\n",
      "    (5, 'date_added', 'TEXT', 0, None, 0),\n",
      "    (6, 'eccentricity', 'REAL', 0, None, 0),\n",
      "    (7, 'atmosphere', 'TEXT', 0, None, 0)\n",
      "  ]\n"
     ]
    }
   ],
   "source": [
    "exoplanets_schema_df = pd.read_sql_query(\"SELECT * FROM EXOPLANETS_SCHEMA\", conn)\n",
    "print(\"Was:    \" + exoplanets_schema_df.iloc[0][\"schema\"])\n",
    "print(\"Is now: \" + exoplanets_schema_df.iloc[-1][\"schema\"])"
   ]
  },
  {
   "cell_type": "markdown",
   "metadata": {},
   "source": [
    "## 2. Exercise: Understanding **Schema Change**\n",
    "\n",
    "When exactly did `EXOPLANETS` start recording new data? The metadata in `EXOPLANETS_SCHEMA` should tell us. See if you can write a SQL query that returns the date(s) the schema changed and to what it changed.\n",
    "\n",
    "- *Hint*: As before, `solutions/exercise_2.ipynb` is your friend if you need inspiration."
   ]
  },
  {
   "cell_type": "code",
   "execution_count": 11,
   "metadata": {},
   "outputs": [],
   "source": [
    "# YOUR CODE HERE\n",
    "SQL = \"\"\"\n",
    "WITH CHANGES AS(\n",
    "    SELECT\n",
    "        date,\n",
    "        schema AS new_schema,\n",
    "        LAG(schema) OVER(ORDER BY date) AS past_schema\n",
    "    FROM\n",
    "        EXOPLANETS_SCHEMA\n",
    ")\n",
    "SELECT\n",
    "    *\n",
    "FROM\n",
    "    CHANGES\n",
    "WHERE\n",
    "    new_schema != past_schema\n",
    "ORDER BY\n",
    "    date ASC\n",
    "\"\"\"\n",
    "# END YOUR CODE"
   ]
  },
  {
   "cell_type": "code",
   "execution_count": 12,
   "metadata": {
    "scrolled": true
   },
   "outputs": [
    {
     "data": {
      "text/html": [
       "<div>\n",
       "<style scoped>\n",
       "    .dataframe tbody tr th:only-of-type {\n",
       "        vertical-align: middle;\n",
       "    }\n",
       "\n",
       "    .dataframe tbody tr th {\n",
       "        vertical-align: top;\n",
       "    }\n",
       "\n",
       "    .dataframe thead th {\n",
       "        text-align: right;\n",
       "    }\n",
       "</style>\n",
       "<table border=\"1\" class=\"dataframe\">\n",
       "  <thead>\n",
       "    <tr style=\"text-align: right;\">\n",
       "      <th></th>\n",
       "      <th>date</th>\n",
       "      <th>new_schema</th>\n",
       "      <th>past_schema</th>\n",
       "    </tr>\n",
       "  </thead>\n",
       "  <tbody>\n",
       "    <tr>\n",
       "      <th>0</th>\n",
       "      <td>2020-07-19</td>\n",
       "      <td>[\\n    (0, '_id', 'TEXT', 0, None, 0),\\n    (1...</td>\n",
       "      <td>[\\n    (0, '_id', 'TEXT', 0, None, 0),\\n    (1...</td>\n",
       "    </tr>\n",
       "  </tbody>\n",
       "</table>\n",
       "</div>"
      ],
      "text/plain": [
       "         date                                         new_schema  \\\n",
       "0  2020-07-19  [\\n    (0, '_id', 'TEXT', 0, None, 0),\\n    (1...   \n",
       "\n",
       "                                         past_schema  \n",
       "0  [\\n    (0, '_id', 'TEXT', 0, None, 0),\\n    (1...  "
      ]
     },
     "execution_count": 12,
     "metadata": {},
     "output_type": "execute_result"
    }
   ],
   "source": [
    "schema_changes = pd.read_sql_query(SQL, conn)\n",
    "schema_changes = schema_changes \\\n",
    "    .rename(columns={clmn: clmn.lower() for clmn in schema_changes.columns})\n",
    "schema_changes"
   ]
  },
  {
   "cell_type": "markdown",
   "metadata": {},
   "source": [
    "A correct implementation should show a single date, **2020-07-19**. Since the data was not backfilled, we can also arrive at this result implicitly, by checking the rate of non-null `eccentricity` and `atmosphere` values in `EXOPLANETS` over time."
   ]
  },
  {
   "cell_type": "code",
   "execution_count": 13,
   "metadata": {},
   "outputs": [],
   "source": [
    "SQL = \"\"\"\n",
    "SELECT\n",
    "    DATE_ADDED,\n",
    "    SUM(CASE WHEN ECCENTRICITY IS NULL THEN 0 ELSE 1 END) AS ECCENTRICITY_COUNT_ADDED,\n",
    "    SUM(CASE WHEN ATMOSPHERE IS NULL THEN 0 ELSE 1 END) AS ATMOSPHERE_COUNT_ADDED \n",
    "FROM\n",
    "    EXOPLANETS\n",
    "GROUP BY\n",
    "    DATE_ADDED\n",
    "\"\"\""
   ]
  },
  {
   "cell_type": "code",
   "execution_count": 14,
   "metadata": {},
   "outputs": [],
   "source": [
    "count_added = pd.read_sql_query(SQL, conn)\n",
    "count_added = count_added \\\n",
    "    .rename(columns={clmn: clmn.lower() for clmn in count_added.columns})\n",
    "count_added = count_added.set_index(\"date_added\")"
   ]
  },
  {
   "cell_type": "markdown",
   "metadata": {},
   "source": [
    "These plots show the number of new entries with values for `eccentricity` and `atmosphere` respectively on each day. Note that on July 19, entries abruptly start filling in because of the addition to the schema."
   ]
  },
  {
   "cell_type": "code",
   "execution_count": 15,
   "metadata": {},
   "outputs": [
    {
     "data": {
      "image/png": "[encoded data removed]",
      "text/plain": [
       "<Figure size 1440x720 with 1 Axes>"
      ]
     },
     "metadata": {
      "needs_background": "light"
     },
     "output_type": "display_data"
    }
   ],
   "source": [
    "plt.figure(figsize=(20, 10))\n",
    "plt.bar(count_added.index, height=count_added[\"eccentricity_count_added\"])\n",
    "plt.axvline(x = \"2020-07-19\", color = 'r')\n",
    "plt.show()"
   ]
  },
  {
   "cell_type": "code",
   "execution_count": 16,
   "metadata": {},
   "outputs": [
    {
     "data": {
      "image/png": "[encoded data removed]",
      "text/plain": [
       "<Figure size 1440x720 with 1 Axes>"
      ]
     },
     "metadata": {
      "needs_background": "light"
     },
     "output_type": "display_data"
    }
   ],
   "source": [
    "plt.figure(figsize=(20, 10))\n",
    "plt.bar(count_added.index, height=count_added[\"atmosphere_count_added\"])\n",
    "plt.axvline(x = \"2020-07-19\", color = 'r')\n",
    "plt.show()"
   ]
  },
  {
   "cell_type": "markdown",
   "metadata": {},
   "source": [
    "## 3. An additional table\n",
    "\n",
    "Now, we want to involve another table in our DB. `HABITABLES` records information about the habitability of exoplanets we've discovered. This table takes data from `EXOPLANETS` and other upstream tables and transforms it to produce a `habitability` index: a real number between 0 and 1 indicating how likely the planet is to harbor life."
   ]
  },
  {
   "cell_type": "code",
   "execution_count": 17,
   "metadata": {},
   "outputs": [
    {
     "data": {
      "text/plain": [
       "[(0, '_id', 'TEXT', 0, None, 0),\n",
       " (1, 'perihelion', 'REAL', 0, None, 0),\n",
       " (2, 'aphelion', 'REAL', 0, None, 0),\n",
       " (3, 'atmosphere', 'TEXT', 0, None, 0),\n",
       " (4, 'habitability', 'REAL', 0, None, 0),\n",
       " (5, 'min_temp', 'REAL', 0, None, 0),\n",
       " (6, 'max_temp', 'REAL', 0, None, 0),\n",
       " (7, 'date_added', 'TEXT', 0, None, 0)]"
      ]
     },
     "execution_count": 17,
     "metadata": {},
     "output_type": "execute_result"
    }
   ],
   "source": [
    "c.execute(\"PRAGMA table_info(HABITABLES);\")\n",
    "c.fetchall()"
   ]
  },
  {
   "cell_type": "code",
   "execution_count": 18,
   "metadata": {},
   "outputs": [
    {
     "data": {
      "text/html": [
       "<div>\n",
       "<style scoped>\n",
       "    .dataframe tbody tr th:only-of-type {\n",
       "        vertical-align: middle;\n",
       "    }\n",
       "\n",
       "    .dataframe tbody tr th {\n",
       "        vertical-align: top;\n",
       "    }\n",
       "\n",
       "    .dataframe thead th {\n",
       "        text-align: right;\n",
       "    }\n",
       "</style>\n",
       "<table border=\"1\" class=\"dataframe\">\n",
       "  <thead>\n",
       "    <tr style=\"text-align: right;\">\n",
       "      <th></th>\n",
       "      <th>_id</th>\n",
       "      <th>perihelion</th>\n",
       "      <th>aphelion</th>\n",
       "      <th>atmosphere</th>\n",
       "      <th>habitability</th>\n",
       "      <th>min_temp</th>\n",
       "      <th>max_temp</th>\n",
       "      <th>date_added</th>\n",
       "    </tr>\n",
       "  </thead>\n",
       "  <tbody>\n",
       "    <tr>\n",
       "      <th>0</th>\n",
       "      <td>c168b188-ef0c-4d6a-8cb2-f473d4154bdb</td>\n",
       "      <td>None</td>\n",
       "      <td>None</td>\n",
       "      <td>None</td>\n",
       "      <td>0.291440</td>\n",
       "      <td>NaN</td>\n",
       "      <td>NaN</td>\n",
       "      <td>2020-01-01</td>\n",
       "    </tr>\n",
       "    <tr>\n",
       "      <th>1</th>\n",
       "      <td>e7b56e84-41f4-4e62-b078-01b076cea369</td>\n",
       "      <td>None</td>\n",
       "      <td>None</td>\n",
       "      <td>None</td>\n",
       "      <td>0.835647</td>\n",
       "      <td>NaN</td>\n",
       "      <td>NaN</td>\n",
       "      <td>2020-01-01</td>\n",
       "    </tr>\n",
       "    <tr>\n",
       "      <th>2</th>\n",
       "      <td>a27030a0-e4b4-4bd7-8d24-5435ed86b395</td>\n",
       "      <td>None</td>\n",
       "      <td>None</td>\n",
       "      <td>None</td>\n",
       "      <td>0.894001</td>\n",
       "      <td>NaN</td>\n",
       "      <td>NaN</td>\n",
       "      <td>2020-01-01</td>\n",
       "    </tr>\n",
       "    <tr>\n",
       "      <th>3</th>\n",
       "      <td>54f9cf85-eae9-4f29-b665-855357a14375</td>\n",
       "      <td>None</td>\n",
       "      <td>None</td>\n",
       "      <td>None</td>\n",
       "      <td>0.415902</td>\n",
       "      <td>103.713749</td>\n",
       "      <td>560.180947</td>\n",
       "      <td>2020-01-01</td>\n",
       "    </tr>\n",
       "    <tr>\n",
       "      <th>4</th>\n",
       "      <td>4d06ec88-f5c8-4d03-91ef-7493a12cd89e</td>\n",
       "      <td>None</td>\n",
       "      <td>None</td>\n",
       "      <td>None</td>\n",
       "      <td>0.593524</td>\n",
       "      <td>NaN</td>\n",
       "      <td>NaN</td>\n",
       "      <td>2020-01-01</td>\n",
       "    </tr>\n",
       "    <tr>\n",
       "      <th>5</th>\n",
       "      <td>e16250b8-2d9d-49f3-aaef-58eed9a8864c</td>\n",
       "      <td>None</td>\n",
       "      <td>None</td>\n",
       "      <td>None</td>\n",
       "      <td>0.392487</td>\n",
       "      <td>119.300295</td>\n",
       "      <td>287.365651</td>\n",
       "      <td>2020-01-01</td>\n",
       "    </tr>\n",
       "    <tr>\n",
       "      <th>6</th>\n",
       "      <td>a0a6bf97-90d5-4686-8ccb-10753f8d335e</td>\n",
       "      <td>None</td>\n",
       "      <td>None</td>\n",
       "      <td>None</td>\n",
       "      <td>0.354851</td>\n",
       "      <td>219.467658</td>\n",
       "      <td>463.261262</td>\n",
       "      <td>2020-01-01</td>\n",
       "    </tr>\n",
       "    <tr>\n",
       "      <th>7</th>\n",
       "      <td>b28b4e19-8517-4ab5-97f0-c445f1aae6c4</td>\n",
       "      <td>None</td>\n",
       "      <td>None</td>\n",
       "      <td>None</td>\n",
       "      <td>0.518242</td>\n",
       "      <td>294.097443</td>\n",
       "      <td>464.827688</td>\n",
       "      <td>2020-01-01</td>\n",
       "    </tr>\n",
       "    <tr>\n",
       "      <th>8</th>\n",
       "      <td>7e34e44e-663f-491c-96c5-bb5acb8d5f1e</td>\n",
       "      <td>None</td>\n",
       "      <td>None</td>\n",
       "      <td>None</td>\n",
       "      <td>0.202482</td>\n",
       "      <td>107.737755</td>\n",
       "      <td>326.815526</td>\n",
       "      <td>2020-01-01</td>\n",
       "    </tr>\n",
       "    <tr>\n",
       "      <th>9</th>\n",
       "      <td>305e8ea0-663b-4311-b6b3-4198c051c335</td>\n",
       "      <td>None</td>\n",
       "      <td>None</td>\n",
       "      <td>None</td>\n",
       "      <td>0.426799</td>\n",
       "      <td>NaN</td>\n",
       "      <td>NaN</td>\n",
       "      <td>2020-01-01</td>\n",
       "    </tr>\n",
       "  </tbody>\n",
       "</table>\n",
       "</div>"
      ],
      "text/plain": [
       "                                    _id perihelion aphelion atmosphere  \\\n",
       "0  c168b188-ef0c-4d6a-8cb2-f473d4154bdb       None     None       None   \n",
       "1  e7b56e84-41f4-4e62-b078-01b076cea369       None     None       None   \n",
       "2  a27030a0-e4b4-4bd7-8d24-5435ed86b395       None     None       None   \n",
       "3  54f9cf85-eae9-4f29-b665-855357a14375       None     None       None   \n",
       "4  4d06ec88-f5c8-4d03-91ef-7493a12cd89e       None     None       None   \n",
       "5  e16250b8-2d9d-49f3-aaef-58eed9a8864c       None     None       None   \n",
       "6  a0a6bf97-90d5-4686-8ccb-10753f8d335e       None     None       None   \n",
       "7  b28b4e19-8517-4ab5-97f0-c445f1aae6c4       None     None       None   \n",
       "8  7e34e44e-663f-491c-96c5-bb5acb8d5f1e       None     None       None   \n",
       "9  305e8ea0-663b-4311-b6b3-4198c051c335       None     None       None   \n",
       "\n",
       "   habitability    min_temp    max_temp  date_added  \n",
       "0      0.291440         NaN         NaN  2020-01-01  \n",
       "1      0.835647         NaN         NaN  2020-01-01  \n",
       "2      0.894001         NaN         NaN  2020-01-01  \n",
       "3      0.415902  103.713749  560.180947  2020-01-01  \n",
       "4      0.593524         NaN         NaN  2020-01-01  \n",
       "5      0.392487  119.300295  287.365651  2020-01-01  \n",
       "6      0.354851  219.467658  463.261262  2020-01-01  \n",
       "7      0.518242  294.097443  464.827688  2020-01-01  \n",
       "8      0.202482  107.737755  326.815526  2020-01-01  \n",
       "9      0.426799         NaN         NaN  2020-01-01  "
      ]
     },
     "execution_count": 18,
     "metadata": {},
     "output_type": "execute_result"
    }
   ],
   "source": [
    "pd.read_sql_query(\"SELECT * FROM HABITABLES LIMIT 10\", conn)"
   ]
  },
  {
   "cell_type": "markdown",
   "metadata": {},
   "source": [
    "## 4. Exercise: Visualizing Distribution Errors\n",
    "Like in exercise 1, I'll write a quick query assessing a **distributional** feature of the `HABITABILITY` table -- how habitable is the average planet we detect, as a function of the day it was detected?"
   ]
  },
  {
   "cell_type": "code",
   "execution_count": 19,
   "metadata": {},
   "outputs": [],
   "source": [
    "SQL = \"\"\"\n",
    "SELECT\n",
    "    DATE_ADDED,\n",
    "    AVG(habitability) AS avg_habitability\n",
    "FROM\n",
    "    HABITABLES\n",
    "GROUP BY\n",
    "    DATE_ADDED\n",
    "\"\"\""
   ]
  },
  {
   "cell_type": "code",
   "execution_count": 20,
   "metadata": {},
   "outputs": [],
   "source": [
    "avg_habitability = pd.read_sql_query(SQL, conn)\n",
    "avg_habitability = avg_habitability \\\n",
    "    .rename(columns={clmn: clmn.lower() for clmn in avg_habitability.columns})\n",
    "avg_habitability = avg_habitability.set_index(\"date_added\")"
   ]
  },
  {
   "cell_type": "code",
   "execution_count": 21,
   "metadata": {},
   "outputs": [
    {
     "data": {
      "image/png": "[encoded data removed]",
      "text/plain": [
       "<Figure size 1440x720 with 1 Axes>"
      ]
     },
     "metadata": {
      "needs_background": "light"
     },
     "output_type": "display_data"
    }
   ],
   "source": [
    "plt.figure(figsize=(20, 10))\n",
    "plt.bar(avg_habitability.index, height=avg_habitability[\"avg_habitability\"])\n",
    "plt.axvline(x = \"2020-07-19\", color = 'r')\n",
    "plt.show()"
   ]
  },
  {
   "cell_type": "markdown",
   "metadata": {},
   "source": [
    "I plotted the date of the schema change, 2020-07-19, in red as a visual aid. Clearly, unless our instruments are malfunctioning, something is wrong! The planets we're adding to the table *after* the schema change seem much less habitable on average. Using a `SQL` query below, see if you can figure out what exactly.\n",
    "\n",
    "*Hint*: When averages change, it's natural to look for occurrences of unusual values. When is `habitability` NULL, 0, or outside of the range $[0, 1]$? What about other fields in the table that might be related? Try writing a query that detects anomalous rates of such unusual values."
   ]
  },
  {
   "cell_type": "code",
   "execution_count": 22,
   "metadata": {},
   "outputs": [],
   "source": [
    "# YOUR CODE HERE\n",
    "SQL = \"\"\"\n",
    "SELECT\n",
    "    DATE_ADDED,\n",
    "    CAST(SUM(CASE WHEN HABITABILITY IS 0 THEN 1 ELSE 0 END) AS FLOAT) / COUNT(*) AS HABITABILITY_ZERO_RATE\n",
    "FROM\n",
    "    HABITABLES\n",
    "GROUP BY\n",
    "    DATE_ADDED\n",
    "\"\"\"\n",
    "# END YOUR CODE"
   ]
  },
  {
   "cell_type": "code",
   "execution_count": 23,
   "metadata": {},
   "outputs": [],
   "source": [
    "habitability_zero_rate = pd.read_sql_query(SQL, conn)\n",
    "habitability_zero_rate = habitability_zero_rate \\\n",
    "    .rename(columns={clmn: clmn.lower() for clmn in habitability_zero_rate.columns})\n",
    "habitability_zero_rate = habitability_zero_rate.set_index(\"date_added\")"
   ]
  },
  {
   "cell_type": "code",
   "execution_count": 24,
   "metadata": {},
   "outputs": [
    {
     "data": {
      "image/png": "[encoded data removed]",
      "text/plain": [
       "<Figure size 1440x720 with 1 Axes>"
      ]
     },
     "metadata": {
      "needs_background": "light"
     },
     "output_type": "display_data"
    }
   ],
   "source": [
    "plt.figure(figsize=(20, 10))\n",
    "plt.bar(habitability_zero_rate.index, height=habitability_zero_rate[\"habitability_zero_rate\"])\n",
    "plt.axvline(x = \"2020-07-19\", color = 'r')\n",
    "plt.show()"
   ]
  },
  {
   "cell_type": "markdown",
   "metadata": {},
   "source": [
    "With a small amount of digging, we can uncover something important -- the `habitability` index is never exactly 0 *before* the schema change, but afterwards we see the rate of 0s jump up to ~50%. This has the detected effect of dipping the average value of the field.\n",
    "\n",
    "Note that in practice, you should look for both -- measuring a field's **rate of zero values**, as well as it's **average value**, can both help with identifying data downtime issues. As we saw last exercise, the **rate of null values** can also be helpful.\n",
    "\n",
    "# Great work!\n",
    "\n",
    "In the next exercise, we'll look at queries that span multiple tables, another step towards building intelligent data downtime systems."
   ]
  },
  {
   "cell_type": "code",
   "execution_count": null,
   "metadata": {},
   "outputs": [],
   "source": []
  }
 ],
 "metadata": {
  "kernelspec": {
   "display_name": "Python 3",
   "language": "python",
   "name": "python3"
  },
  "language_info": {
   "codemirror_mode": {
    "name": "ipython",
    "version": 3
   },
   "file_extension": ".py",
   "mimetype": "text/x-python",
   "name": "python",
   "nbconvert_exporter": "python",
   "pygments_lexer": "ipython3",
   "version": "3.7.5"
  }
 },
 "nbformat": 4,
 "nbformat_minor": 4
}
