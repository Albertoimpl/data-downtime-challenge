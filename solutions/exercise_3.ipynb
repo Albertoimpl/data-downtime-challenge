{
 "cells": [
  {
   "cell_type": "markdown",
   "metadata": {},
   "source": [
    "## 3. Exercise: Pillars of Data Observability in Conjunction"
   ]
  },
  {
   "cell_type": "code",
   "execution_count": null,
   "metadata": {},
   "outputs": [],
   "source": [
    "SQL = \"\"\"\n",
    "WITH HABITABILITY_ZERO_RATE AS(\n",
    "SELECT\n",
    "    DATE_ADDED AS date,\n",
    "    CAST(SUM(CASE WHEN HABITABILITY IS 0 THEN 1 ELSE 0 END) AS FLOAT) / COUNT(*) AS ZERO_RATE\n",
    "FROM\n",
    "    HABITABLES\n",
    "GROUP BY\n",
    "    DATE_ADDED\n",
    "),\n",
    "\n",
    "SCHEMA_CHANGES AS(\n",
    "    SELECT\n",
    "        date,\n",
    "        schema AS new_schema,\n",
    "        LAG(schema) OVER(ORDER BY date) AS past_schema\n",
    "    FROM\n",
    "        EXOPLANETS_SCHEMA\n",
    "),\n",
    "\n",
    "SCHEMA_ALERTS AS(\n",
    "SELECT\n",
    "    *\n",
    "FROM\n",
    "    SCHEMA_CHANGES\n",
    "WHERE\n",
    "    new_schema != past_schema\n",
    "ORDER BY\n",
    "    date ASC\n",
    ")\n",
    "\n",
    "SELECT\n",
    "    DATE\n",
    "FROM\n",
    "    HABITABILITY_ZERO_RATE\n",
    "JOIN\n",
    "SCHEMA_ALERTS USING (date)\n",
    "WHERE\n",
    "    ZERO_RATE IS NOT NULL AND\n",
    "    ZERO_RATE > 0.3\n",
    "\"\"\""
   ]
  },
  {
   "cell_type": "markdown",
   "metadata": {},
   "source": [
    "## 4. Exercise: Diagnosing Another Distribution Issue"
   ]
  },
  {
   "cell_type": "code",
   "execution_count": null,
   "metadata": {},
   "outputs": [],
   "source": [
    "SQL = \"\"\"\n",
    "SELECT\n",
    "    DATE_ADDED,\n",
    "    CAST(COUNT(DISTINCT _ID) AS FLOAT) / COUNT(_ID) AS PCT_UNIQUE\n",
    "FROM\n",
    "    HABITABLES\n",
    "GROUP BY\n",
    "    DATE_ADDED\n",
    "ORDER BY\n",
    "    DATE_ADDED ASC\n",
    "\"\"\""
   ]
  },
  {
   "cell_type": "code",
   "execution_count": null,
   "metadata": {},
   "outputs": [],
   "source": [
    "SQL = \"\"\"\n",
    "WITH UNIQUENESS AS(\n",
    "    SELECT\n",
    "        DATE_ADDED,\n",
    "        CAST(COUNT(DISTINCT _ID) AS FLOAT) / COUNT(_ID) AS PCT_UNIQUE\n",
    "    FROM\n",
    "        HABITABLES\n",
    "    GROUP BY\n",
    "        DATE_ADDED\n",
    "    ORDER BY\n",
    "        DATE_ADDED ASC\n",
    ")\n",
    "\n",
    "SELECT\n",
    "    *\n",
    "FROM\n",
    "    UNIQUENESS\n",
    "WHERE\n",
    "    PCT_UNIQUE < 1.0\n",
    "\"\"\""
   ]
  }
 ],
 "metadata": {
  "kernelspec": {
   "display_name": "Python 3",
   "language": "python",
   "name": "python3"
  },
  "language_info": {
   "codemirror_mode": {
    "name": "ipython",
    "version": 3
   },
   "file_extension": ".py",
   "mimetype": "text/x-python",
   "name": "python",
   "nbconvert_exporter": "python",
   "pygments_lexer": "ipython3",
   "version": "3.7.5"
  }
 },
 "nbformat": 4,
 "nbformat_minor": 4
}
