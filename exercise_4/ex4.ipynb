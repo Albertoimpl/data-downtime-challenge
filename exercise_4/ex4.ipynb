{
 "cells": [
  {
   "cell_type": "markdown",
   "metadata": {},
   "source": [
    "# Data Downtime Challenge | Exercise 4\n",
    "\n",
    "## 0. Setup"
   ]
  },
  {
   "cell_type": "code",
   "execution_count": 1,
   "metadata": {},
   "outputs": [],
   "source": [
    "%matplotlib inline\n",
    "import warnings\n",
    "warnings.filterwarnings(\"ignore\")"
   ]
  },
  {
   "cell_type": "code",
   "execution_count": 2,
   "metadata": {},
   "outputs": [],
   "source": [
    "import pandas as pd\n",
    "from datetime import datetime, timedelta\n",
    "from matplotlib import pyplot as plt"
   ]
  },
  {
   "cell_type": "code",
   "execution_count": 3,
   "metadata": {},
   "outputs": [],
   "source": [
    "import sqlite3\n",
    "\n",
    "conn = sqlite3.connect('Ex4.db')\n",
    "c = conn.cursor()"
   ]
  },
  {
   "cell_type": "markdown",
   "metadata": {},
   "source": [
    "## 1. Introduction\n",
    "\n",
    "In the last exercise, we moved one step closer towards algorithms for generic data downtime issues. We now have all the tools we need for data downtime in our small sandbox environment.\n",
    "\n",
    "The question is, will it scale? Notice that the algorithms we've developed are specially tuned to a small number of tables. In practice, good data downtime algorithms should handle a large number of tables at high volume. To do this, we need to invoke some terms from statistics and machine learning.\n",
    "\n",
    "## 2. Precision & Recall\n",
    "\n",
    "Whenever we alert a user about a data downtime issue, we have to question whether the alert was accurate. Does the alert indicate a _genuine_ problem? We might be worried about two scenarios:\n",
    "1. An alert was issued, but there was no genuine issue. We've wasted the user's time responding to the alert.\n",
    "2. There was a genuine issue, but no alert was issued. We've let a performance issue go undetected.\n",
    "\n",
    "These two scenarios are best to think about as **false positives** (predicted anomalous, actually OK) and **false negatives** (predicted OK, actually anomalous). We also have **true positives** and **true negatives**:\n",
    "\n",
    "|   | Predicted Anomalous  | Predicted OK  |\n",
    "|---|---|---|\n",
    "| **Actually Anomalous** | True Positive (TP) | False Negative (FN) |\n",
    "| **Actually OK** | False Positive (FP) | True Negative (FN) |\n",
    "\n",
    "We want a good detection scheme to minimize both False Positives and False Negatives. In practice, it's more helpful to think about related terms, **precision** and **recall**:\n",
    "\n",
    "$$\\text{Precision} = \\frac{TP}{TP + FP} = \\frac{\\text{Correct anomalous predictions}}{\\text{All anomalous predictions}}$$\n",
    "$$\\text{Recall} = \\frac{TP}{TP + FN} = \\frac{\\text{Correct anomalous predictions}}{\\text{All actual anomalies}}$$\n",
    "\n",
    "Precision, generally, tells us how often we're write when we issue an alert. Recall, generally, tells us how many issue we actually alert for.\n",
    "\n",
    "### Balancing Precision and Recall\n",
    "Notice that there's an explicit tradeoff between these two. How do we get perfect precision? Simple: alert for _nothing_, forcing us to have a False Positive rate of 0%. The problem? Recall will be horrible, since our False Negative rate will be huge.\n",
    "\n",
    "Likewise, how do we get perfect recall? Also simple: alert for _everything_, forcing a False Negative rate of 0%. The issue, as expected, is that our False Positive rate will suffer, affecting precision.\n",
    "\n",
    "### Solution: A Singular Objective\n",
    "\n",
    "In many cases we'll want a singular objective to optimize, not two. We can combine both precision and recall into a single metric called an $F$-score:\n",
    "\n",
    "$$F_\\beta = (1-\\beta^2)\\cdot\\frac{precision \\cdot recall}{\\beta^2precision + recall}$$\n",
    "\n",
    "$F_\\beta$ is called a **weighted $F$-score**, since different values for $\\beta$ weigh precision and recall. When $\\beta = 1$, the equation values each equally. Set $\\beta > 1$, and recall will be more important for a higher score. In other words, $\\beta > 1$ says, \"I care more about catching all anomalies than occasionally causing a false alarm.\" Likewise, set $\\beta < 1$, and precision will be more important. $\\beta < 1$ says, \"I care more about my alarms being genuine than catching every real issue.\"\n",
    "\n",
    "## 3. Exercise: Balancing Precision and Recall\n",
    "\n",
    "Here's a simple exercise: let's look at **freshness** with the `EXOPLANETS` table again. We have new data, and while the data continues to enter at a normally daily cadence, we have occasional outages. A key question: how many days without data is enough to issue an alert? A day without new data may be fine, but two weeks is obviously a problem. In the middle, there's a grey area. Could three days be considered anomalous? Four? Five?\n",
    "\n",
    "Your code for this exercise is simple: set a hyperparameter! The smaller `THRESHOLD_DAYS` is, the more alerts will be issued. Rerun with different parameters to see how precision, recall, and $F_1$-score are affected."
   ]
  },
  {
   "cell_type": "code",
   "execution_count": 12,
   "metadata": {},
   "outputs": [],
   "source": [
    "# YOUR CODE HERE\n",
    "THRESHOLD_DAYS = 2\n",
    "# END YOUR CODE"
   ]
  },
  {
   "cell_type": "code",
   "execution_count": 13,
   "metadata": {},
   "outputs": [],
   "source": [
    "all_days = []\n",
    "date = datetime(2020, 1, 1)\n",
    "for _ in range(200):\n",
    "    all_days.append(date.strftime(\"%Y-%m-%d\"))\n",
    "    date += timedelta(days=1)\n",
    "all_days = pd.Index(all_days)"
   ]
  },
  {
   "cell_type": "code",
   "execution_count": 14,
   "metadata": {},
   "outputs": [],
   "source": [
    "SQL = \"\"\"\n",
    "SELECT\n",
    "    DATE_ADDED,\n",
    "    COUNT(*) AS ROWS_ADDED\n",
    "FROM\n",
    "    EXOPLANETS\n",
    "GROUP BY\n",
    "    DATE_ADDED\n",
    "\"\"\""
   ]
  },
  {
   "cell_type": "code",
   "execution_count": 15,
   "metadata": {},
   "outputs": [
    {
     "data": {
      "image/png": "[encoded data removed]",
      "text/plain": [
       "<Figure size 1440x720 with 1 Axes>"
      ]
     },
     "metadata": {
      "needs_background": "light"
     },
     "output_type": "display_data"
    }
   ],
   "source": [
    "rows_added = pd.read_sql_query(SQL, conn)\n",
    "rows_added = rows_added \\\n",
    "    .rename(columns={clmn: clmn.lower() for clmn in rows_added.columns})\n",
    "rows_added = rows_added.set_index(\"date_added\")\n",
    "rows_added = rows_added.reindex(all_days)\n",
    "plt.figure(figsize=(20, 10))\n",
    "plt.bar(all_days, height=rows_added[\"rows_added\"])\n",
    "plt.show()"
   ]
  },
  {
   "cell_type": "code",
   "execution_count": 16,
   "metadata": {},
   "outputs": [],
   "source": [
    "SQL = \"\"\"\n",
    "WITH RC_UPDATES AS(\n",
    "    SELECT\n",
    "        DATE_ADDED,\n",
    "        COUNT(*) AS ROWS_ADDED\n",
    "    FROM\n",
    "        EXOPLANETS\n",
    "    GROUP BY\n",
    "        DATE_ADDED\n",
    "),\n",
    "NUM_DAYS_UPDATES AS(\n",
    "    SELECT\n",
    "        DATE_ADDED,\n",
    "        JULIANDAY(DATE_ADDED) - JULIANDAY(LAG(DATE_ADDED) OVER(ORDER BY DATE_ADDED)) AS DAYS_SINCE_UPDATE\n",
    "    FROM\n",
    "        RC_UPDATES\n",
    ")\n",
    "SELECT\n",
    "    *\n",
    "FROM\n",
    "    NUM_DAYS_UPDATES\n",
    "WHERE\n",
    "    DAYS_SINCE_UPDATE > {}\n",
    "\"\"\".format(THRESHOLD_DAYS)"
   ]
  },
  {
   "cell_type": "code",
   "execution_count": 17,
   "metadata": {},
   "outputs": [
    {
     "data": {
      "text/html": [
       "<div>\n",
       "<style scoped>\n",
       "    .dataframe tbody tr th:only-of-type {\n",
       "        vertical-align: middle;\n",
       "    }\n",
       "\n",
       "    .dataframe tbody tr th {\n",
       "        vertical-align: top;\n",
       "    }\n",
       "\n",
       "    .dataframe thead th {\n",
       "        text-align: right;\n",
       "    }\n",
       "</style>\n",
       "<table border=\"1\" class=\"dataframe\">\n",
       "  <thead>\n",
       "    <tr style=\"text-align: right;\">\n",
       "      <th></th>\n",
       "      <th>date_added</th>\n",
       "      <th>days_since_update</th>\n",
       "    </tr>\n",
       "  </thead>\n",
       "  <tbody>\n",
       "    <tr>\n",
       "      <th>0</th>\n",
       "      <td>2020-02-08</td>\n",
       "      <td>8.0</td>\n",
       "    </tr>\n",
       "    <tr>\n",
       "      <th>1</th>\n",
       "      <td>2020-03-30</td>\n",
       "      <td>4.0</td>\n",
       "    </tr>\n",
       "    <tr>\n",
       "      <th>2</th>\n",
       "      <td>2020-05-14</td>\n",
       "      <td>8.0</td>\n",
       "    </tr>\n",
       "    <tr>\n",
       "      <th>3</th>\n",
       "      <td>2020-06-07</td>\n",
       "      <td>3.0</td>\n",
       "    </tr>\n",
       "    <tr>\n",
       "      <th>4</th>\n",
       "      <td>2020-06-17</td>\n",
       "      <td>5.0</td>\n",
       "    </tr>\n",
       "    <tr>\n",
       "      <th>5</th>\n",
       "      <td>2020-06-30</td>\n",
       "      <td>3.0</td>\n",
       "    </tr>\n",
       "  </tbody>\n",
       "</table>\n",
       "</div>"
      ],
      "text/plain": [
       "   date_added  days_since_update\n",
       "0  2020-02-08                8.0\n",
       "1  2020-03-30                4.0\n",
       "2  2020-05-14                8.0\n",
       "3  2020-06-07                3.0\n",
       "4  2020-06-17                5.0\n",
       "5  2020-06-30                3.0"
      ]
     },
     "execution_count": 17,
     "metadata": {},
     "output_type": "execute_result"
    }
   ],
   "source": [
    "freshness_anoms = pd.read_sql_query(SQL, conn)\n",
    "freshness_anoms = freshness_anoms \\\n",
    "    .rename(columns={clmn: clmn.lower() for clmn in freshness_anoms.columns})\n",
    "freshness_anoms"
   ]
  },
  {
   "cell_type": "markdown",
   "metadata": {},
   "source": [
    "The `show_reports` function from `utils` will help us visualize our results."
   ]
  },
  {
   "cell_type": "code",
   "execution_count": 18,
   "metadata": {},
   "outputs": [],
   "source": [
    "def show_reports(df, timestamps, metric: str):\n",
    "    plt.figure(figsize=(20, 10))\n",
    "    plt.bar(all_days, height=df[metric])\n",
    "    for t in timestamps: plt.axvline(x = t, color = 'r')\n",
    "    plt.show()"
   ]
  },
  {
   "cell_type": "code",
   "execution_count": 19,
   "metadata": {},
   "outputs": [
    {
     "data": {
      "image/png": "[encoded data removed]",
      "text/plain": [
       "<Figure size 1440x720 with 1 Axes>"
      ]
     },
     "metadata": {
      "needs_background": "light"
     },
     "output_type": "display_data"
    }
   ],
   "source": [
    "show_reports(rows_added, freshness_anoms[\"date_added\"], \"rows_added\")"
   ]
  },
  {
   "cell_type": "markdown",
   "metadata": {},
   "source": [
    "We have another table called `EXOPLANET_OUTAGES`, which serves as our \"ground truth\" for this exercise. If a date is in `EXOPLANET_OUTAGES`, then we consider an alert on that date to be genuine. In practice, such a table wouldn't be available, but it's helpful here for illustrating the relationship between precision and recall."
   ]
  },
  {
   "cell_type": "code",
   "execution_count": null,
   "metadata": {},
   "outputs": [],
   "source": []
  }
 ],
 "metadata": {
  "kernelspec": {
   "display_name": "Python 3",
   "language": "python",
   "name": "python3"
  },
  "language_info": {
   "codemirror_mode": {
    "name": "ipython",
    "version": 3
   },
   "file_extension": ".py",
   "mimetype": "text/x-python",
   "name": "python",
   "nbconvert_exporter": "python",
   "pygments_lexer": "ipython3",
   "version": "3.7.5"
  }
 },
 "nbformat": 4,
 "nbformat_minor": 4
}
